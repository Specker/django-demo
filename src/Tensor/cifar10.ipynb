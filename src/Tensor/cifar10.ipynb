{
 "metadata": {
  "language_info": {
   "codemirror_mode": {
    "name": "ipython",
    "version": 3
   },
   "file_extension": ".py",
   "mimetype": "text/x-python",
   "name": "python",
   "nbconvert_exporter": "python",
   "pygments_lexer": "ipython3",
   "version": "3.8.6-final"
  },
  "orig_nbformat": 2,
  "kernelspec": {
   "name": "python3",
   "display_name": "Python 3",
   "language": "python"
  }
 },
 "nbformat": 4,
 "nbformat_minor": 2,
 "cells": [
  {
   "cell_type": "code",
   "execution_count": 1,
   "metadata": {},
   "outputs": [],
   "source": [
    "import tensorflow as tf\n",
    "from tensorflow import keras\n",
    "import numpy as numpy\n",
    "import matplotlib.pyplot as plot\n",
    "import matplotlib"
   ]
  },
  {
   "cell_type": "code",
   "execution_count": 2,
   "metadata": {},
   "outputs": [],
   "source": [
    "from tensorflow.keras.datasets import cifar10"
   ]
  },
  {
   "cell_type": "code",
   "execution_count": 3,
   "metadata": {},
   "outputs": [
    {
     "output_type": "stream",
     "name": "stdout",
     "text": [
      "Num GPUs Available:  1\n"
     ]
    }
   ],
   "source": [
    "print(\"Num GPUs Available: \", len(tf.config.experimental.list_physical_devices('GPU')))"
   ]
  },
  {
   "cell_type": "code",
   "execution_count": 4,
   "metadata": {},
   "outputs": [],
   "source": [
    "(x_train, y_train),(x_test, y_test) = cifar10.load_data()"
   ]
  },
  {
   "cell_type": "code",
   "execution_count": 5,
   "metadata": {},
   "outputs": [],
   "source": [
    "class_names = ['airplane','automobile', 'bird', 'cat', 'deer', 'dog', 'frog', 'horse', 'ship','truck']"
   ]
  },
  {
   "cell_type": "code",
   "execution_count": 6,
   "metadata": {},
   "outputs": [],
   "source": [
    "x_train = x_train/255\n",
    "x_test = x_test/255"
   ]
  },
  {
   "cell_type": "code",
   "execution_count": 7,
   "metadata": {},
   "outputs": [
    {
     "output_type": "execute_result",
     "data": {
      "text/plain": [
       "(50000, 32, 32, 3)"
      ]
     },
     "metadata": {},
     "execution_count": 7
    }
   ],
   "source": [
    "x_train.shape"
   ]
  },
  {
   "cell_type": "code",
   "execution_count": 8,
   "metadata": {},
   "outputs": [
    {
     "output_type": "execute_result",
     "data": {
      "text/plain": [
       "(10000, 32, 32, 3)"
      ]
     },
     "metadata": {},
     "execution_count": 8
    }
   ],
   "source": [
    "x_test.shape"
   ]
  },
  {
   "cell_type": "code",
   "execution_count": 9,
   "metadata": {},
   "outputs": [
    {
     "output_type": "execute_result",
     "data": {
      "text/plain": [
       "<matplotlib.image.AxesImage at 0x1e3b655deb0>"
      ]
     },
     "metadata": {},
     "execution_count": 9
    },
    {
     "output_type": "display_data",
     "data": {
      "text/plain": "<Figure size 432x288 with 1 Axes>",
      "image/svg+xml": "<?xml version=\"1.0\" encoding=\"utf-8\" standalone=\"no\"?>\r\n<!DOCTYPE svg PUBLIC \"-//W3C//DTD SVG 1.1//EN\"\r\n  \"http://www.w3.org/Graphics/SVG/1.1/DTD/svg11.dtd\">\r\n<!-- Created with matplotlib (https://matplotlib.org/) -->\r\n<svg height=\"248.919844pt\" version=\"1.1\" viewBox=\"0 0 251.565 248.919844\" width=\"251.565pt\" xmlns=\"http://www.w3.org/2000/svg\" xmlns:xlink=\"http://www.w3.org/1999/xlink\">\r\n <metadata>\r\n  <rdf:RDF xmlns:cc=\"http://creativecommons.org/ns#\" xmlns:dc=\"http://purl.org/dc/elements/1.1/\" xmlns:rdf=\"http://www.w3.org/1999/02/22-rdf-syntax-ns#\">\r\n   <cc:Work>\r\n    <dc:type rdf:resource=\"http://purl.org/dc/dcmitype/StillImage\"/>\r\n    <dc:date>2020-12-25T17:50:39.886178</dc:date>\r\n    <dc:format>image/svg+xml</dc:format>\r\n    <dc:creator>\r\n     <cc:Agent>\r\n      <dc:title>Matplotlib v3.3.2, https://matplotlib.org/</dc:title>\r\n     </cc:Agent>\r\n    </dc:creator>\r\n   </cc:Work>\r\n  </rdf:RDF>\r\n </metadata>\r\n <defs>\r\n  <style type=\"text/css\">*{stroke-linecap:butt;stroke-linejoin:round;}</style>\r\n </defs>\r\n <g id=\"figure_1\">\r\n  <g id=\"patch_1\">\r\n   <path d=\"M 0 248.919844 \r\nL 251.565 248.919844 \r\nL 251.565 0 \r\nL 0 0 \r\nz\r\n\" style=\"fill:none;\"/>\r\n  </g>\r\n  <g id=\"axes_1\">\r\n   <g id=\"patch_2\">\r\n    <path d=\"M 26.925 225.041719 \r\nL 244.365 225.041719 \r\nL 244.365 7.601719 \r\nL 26.925 7.601719 \r\nz\r\n\" style=\"fill:#ffffff;\"/>\r\n   </g>\r\n   <g clip-path=\"url(#pa8f8bbca05)\">\r\n    <image height=\"218\" id=\"image2c39940ee6\" transform=\"scale(1 -1)translate(0 -218)\" width=\"218\" x=\"26.925\" xlink:href=\"data:image/png;base64,\r\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\" y=\"-7.041719\"/>\r\n   </g>\r\n   <g id=\"matplotlib.axis_1\">\r\n    <g id=\"xtick_1\">\r\n     <g id=\"line2d_1\">\r\n      <defs>\r\n       <path d=\"M 0 0 \r\nL 0 3.5 \r\n\" id=\"m40d2c71340\" style=\"stroke:#000000;stroke-width:0.8;\"/>\r\n      </defs>\r\n      <g>\r\n       <use style=\"stroke:#000000;stroke-width:0.8;\" x=\"30.3225\" xlink:href=\"#m40d2c71340\" y=\"225.041719\"/>\r\n      </g>\r\n     </g>\r\n     <g id=\"text_1\">\r\n      <!-- 0 -->\r\n      <g transform=\"translate(27.14125 239.640156)scale(0.1 -0.1)\">\r\n       <defs>\r\n        <path d=\"M 31.78125 66.40625 \r\nQ 24.171875 66.40625 20.328125 58.90625 \r\nQ 16.5 51.421875 16.5 36.375 \r\nQ 16.5 21.390625 20.328125 13.890625 \r\nQ 24.171875 6.390625 31.78125 6.390625 \r\nQ 39.453125 6.390625 43.28125 13.890625 \r\nQ 47.125 21.390625 47.125 36.375 \r\nQ 47.125 51.421875 43.28125 58.90625 \r\nQ 39.453125 66.40625 31.78125 66.40625 \r\nz\r\nM 31.78125 74.21875 \r\nQ 44.046875 74.21875 50.515625 64.515625 \r\nQ 56.984375 54.828125 56.984375 36.375 \r\nQ 56.984375 17.96875 50.515625 8.265625 \r\nQ 44.046875 -1.421875 31.78125 -1.421875 \r\nQ 19.53125 -1.421875 13.0625 8.265625 \r\nQ 6.59375 17.96875 6.59375 36.375 \r\nQ 6.59375 54.828125 13.0625 64.515625 \r\nQ 19.53125 74.21875 31.78125 74.21875 \r\nz\r\n\" id=\"DejaVuSans-48\"/>\r\n       </defs>\r\n       <use xlink:href=\"#DejaVuSans-48\"/>\r\n      </g>\r\n     </g>\r\n    </g>\r\n    <g id=\"xtick_2\">\r\n     <g id=\"line2d_2\">\r\n      <g>\r\n       <use style=\"stroke:#000000;stroke-width:0.8;\" x=\"64.2975\" xlink:href=\"#m40d2c71340\" y=\"225.041719\"/>\r\n      </g>\r\n     </g>\r\n     <g id=\"text_2\">\r\n      <!-- 5 -->\r\n      <g transform=\"translate(61.11625 239.640156)scale(0.1 -0.1)\">\r\n       <defs>\r\n        <path d=\"M 10.796875 72.90625 \r\nL 49.515625 72.90625 \r\nL 49.515625 64.59375 \r\nL 19.828125 64.59375 \r\nL 19.828125 46.734375 \r\nQ 21.96875 47.46875 24.109375 47.828125 \r\nQ 26.265625 48.1875 28.421875 48.1875 \r\nQ 40.625 48.1875 47.75 41.5 \r\nQ 54.890625 34.8125 54.890625 23.390625 \r\nQ 54.890625 11.625 47.5625 5.09375 \r\nQ 40.234375 -1.421875 26.90625 -1.421875 \r\nQ 22.3125 -1.421875 17.546875 -0.640625 \r\nQ 12.796875 0.140625 7.71875 1.703125 \r\nL 7.71875 11.625 \r\nQ 12.109375 9.234375 16.796875 8.0625 \r\nQ 21.484375 6.890625 26.703125 6.890625 \r\nQ 35.15625 6.890625 40.078125 11.328125 \r\nQ 45.015625 15.765625 45.015625 23.390625 \r\nQ 45.015625 31 40.078125 35.4375 \r\nQ 35.15625 39.890625 26.703125 39.890625 \r\nQ 22.75 39.890625 18.8125 39.015625 \r\nQ 14.890625 38.140625 10.796875 36.28125 \r\nz\r\n\" id=\"DejaVuSans-53\"/>\r\n       </defs>\r\n       <use xlink:href=\"#DejaVuSans-53\"/>\r\n      </g>\r\n     </g>\r\n    </g>\r\n    <g id=\"xtick_3\">\r\n     <g id=\"line2d_3\">\r\n      <g>\r\n       <use style=\"stroke:#000000;stroke-width:0.8;\" x=\"98.2725\" xlink:href=\"#m40d2c71340\" y=\"225.041719\"/>\r\n      </g>\r\n     </g>\r\n     <g id=\"text_3\">\r\n      <!-- 10 -->\r\n      <g transform=\"translate(91.91 239.640156)scale(0.1 -0.1)\">\r\n       <defs>\r\n        <path d=\"M 12.40625 8.296875 \r\nL 28.515625 8.296875 \r\nL 28.515625 63.921875 \r\nL 10.984375 60.40625 \r\nL 10.984375 69.390625 \r\nL 28.421875 72.90625 \r\nL 38.28125 72.90625 \r\nL 38.28125 8.296875 \r\nL 54.390625 8.296875 \r\nL 54.390625 0 \r\nL 12.40625 0 \r\nz\r\n\" id=\"DejaVuSans-49\"/>\r\n       </defs>\r\n       <use xlink:href=\"#DejaVuSans-49\"/>\r\n       <use x=\"63.623047\" xlink:href=\"#DejaVuSans-48\"/>\r\n      </g>\r\n     </g>\r\n    </g>\r\n    <g id=\"xtick_4\">\r\n     <g id=\"line2d_4\">\r\n      <g>\r\n       <use style=\"stroke:#000000;stroke-width:0.8;\" x=\"132.2475\" xlink:href=\"#m40d2c71340\" y=\"225.041719\"/>\r\n      </g>\r\n     </g>\r\n     <g id=\"text_4\">\r\n      <!-- 15 -->\r\n      <g transform=\"translate(125.885 239.640156)scale(0.1 -0.1)\">\r\n       <use xlink:href=\"#DejaVuSans-49\"/>\r\n       <use x=\"63.623047\" xlink:href=\"#DejaVuSans-53\"/>\r\n      </g>\r\n     </g>\r\n    </g>\r\n    <g id=\"xtick_5\">\r\n     <g id=\"line2d_5\">\r\n      <g>\r\n       <use style=\"stroke:#000000;stroke-width:0.8;\" x=\"166.2225\" xlink:href=\"#m40d2c71340\" y=\"225.041719\"/>\r\n      </g>\r\n     </g>\r\n     <g id=\"text_5\">\r\n      <!-- 20 -->\r\n      <g transform=\"translate(159.86 239.640156)scale(0.1 -0.1)\">\r\n       <defs>\r\n        <path d=\"M 19.1875 8.296875 \r\nL 53.609375 8.296875 \r\nL 53.609375 0 \r\nL 7.328125 0 \r\nL 7.328125 8.296875 \r\nQ 12.9375 14.109375 22.625 23.890625 \r\nQ 32.328125 33.6875 34.8125 36.53125 \r\nQ 39.546875 41.84375 41.421875 45.53125 \r\nQ 43.3125 49.21875 43.3125 52.78125 \r\nQ 43.3125 58.59375 39.234375 62.25 \r\nQ 35.15625 65.921875 28.609375 65.921875 \r\nQ 23.96875 65.921875 18.8125 64.3125 \r\nQ 13.671875 62.703125 7.8125 59.421875 \r\nL 7.8125 69.390625 \r\nQ 13.765625 71.78125 18.9375 73 \r\nQ 24.125 74.21875 28.421875 74.21875 \r\nQ 39.75 74.21875 46.484375 68.546875 \r\nQ 53.21875 62.890625 53.21875 53.421875 \r\nQ 53.21875 48.921875 51.53125 44.890625 \r\nQ 49.859375 40.875 45.40625 35.40625 \r\nQ 44.1875 33.984375 37.640625 27.21875 \r\nQ 31.109375 20.453125 19.1875 8.296875 \r\nz\r\n\" id=\"DejaVuSans-50\"/>\r\n       </defs>\r\n       <use xlink:href=\"#DejaVuSans-50\"/>\r\n       <use x=\"63.623047\" xlink:href=\"#DejaVuSans-48\"/>\r\n      </g>\r\n     </g>\r\n    </g>\r\n    <g id=\"xtick_6\">\r\n     <g id=\"line2d_6\">\r\n      <g>\r\n       <use style=\"stroke:#000000;stroke-width:0.8;\" x=\"200.1975\" xlink:href=\"#m40d2c71340\" y=\"225.041719\"/>\r\n      </g>\r\n     </g>\r\n     <g id=\"text_6\">\r\n      <!-- 25 -->\r\n      <g transform=\"translate(193.835 239.640156)scale(0.1 -0.1)\">\r\n       <use xlink:href=\"#DejaVuSans-50\"/>\r\n       <use x=\"63.623047\" xlink:href=\"#DejaVuSans-53\"/>\r\n      </g>\r\n     </g>\r\n    </g>\r\n    <g id=\"xtick_7\">\r\n     <g id=\"line2d_7\">\r\n      <g>\r\n       <use style=\"stroke:#000000;stroke-width:0.8;\" x=\"234.1725\" xlink:href=\"#m40d2c71340\" y=\"225.041719\"/>\r\n      </g>\r\n     </g>\r\n     <g id=\"text_7\">\r\n      <!-- 30 -->\r\n      <g transform=\"translate(227.81 239.640156)scale(0.1 -0.1)\">\r\n       <defs>\r\n        <path d=\"M 40.578125 39.3125 \r\nQ 47.65625 37.796875 51.625 33 \r\nQ 55.609375 28.21875 55.609375 21.1875 \r\nQ 55.609375 10.40625 48.1875 4.484375 \r\nQ 40.765625 -1.421875 27.09375 -1.421875 \r\nQ 22.515625 -1.421875 17.65625 -0.515625 \r\nQ 12.796875 0.390625 7.625 2.203125 \r\nL 7.625 11.71875 \r\nQ 11.71875 9.328125 16.59375 8.109375 \r\nQ 21.484375 6.890625 26.8125 6.890625 \r\nQ 36.078125 6.890625 40.9375 10.546875 \r\nQ 45.796875 14.203125 45.796875 21.1875 \r\nQ 45.796875 27.640625 41.28125 31.265625 \r\nQ 36.765625 34.90625 28.71875 34.90625 \r\nL 20.21875 34.90625 \r\nL 20.21875 43.015625 \r\nL 29.109375 43.015625 \r\nQ 36.375 43.015625 40.234375 45.921875 \r\nQ 44.09375 48.828125 44.09375 54.296875 \r\nQ 44.09375 59.90625 40.109375 62.90625 \r\nQ 36.140625 65.921875 28.71875 65.921875 \r\nQ 24.65625 65.921875 20.015625 65.03125 \r\nQ 15.375 64.15625 9.8125 62.3125 \r\nL 9.8125 71.09375 \r\nQ 15.4375 72.65625 20.34375 73.4375 \r\nQ 25.25 74.21875 29.59375 74.21875 \r\nQ 40.828125 74.21875 47.359375 69.109375 \r\nQ 53.90625 64.015625 53.90625 55.328125 \r\nQ 53.90625 49.265625 50.4375 45.09375 \r\nQ 46.96875 40.921875 40.578125 39.3125 \r\nz\r\n\" id=\"DejaVuSans-51\"/>\r\n       </defs>\r\n       <use xlink:href=\"#DejaVuSans-51\"/>\r\n       <use x=\"63.623047\" xlink:href=\"#DejaVuSans-48\"/>\r\n      </g>\r\n     </g>\r\n    </g>\r\n   </g>\r\n   <g id=\"matplotlib.axis_2\">\r\n    <g id=\"ytick_1\">\r\n     <g id=\"line2d_8\">\r\n      <defs>\r\n       <path d=\"M 0 0 \r\nL -3.5 0 \r\n\" id=\"mf7a4803215\" style=\"stroke:#000000;stroke-width:0.8;\"/>\r\n      </defs>\r\n      <g>\r\n       <use style=\"stroke:#000000;stroke-width:0.8;\" x=\"26.925\" xlink:href=\"#mf7a4803215\" y=\"10.999219\"/>\r\n      </g>\r\n     </g>\r\n     <g id=\"text_8\">\r\n      <!-- 0 -->\r\n      <g transform=\"translate(13.5625 14.798437)scale(0.1 -0.1)\">\r\n       <use xlink:href=\"#DejaVuSans-48\"/>\r\n      </g>\r\n     </g>\r\n    </g>\r\n    <g id=\"ytick_2\">\r\n     <g id=\"line2d_9\">\r\n      <g>\r\n       <use style=\"stroke:#000000;stroke-width:0.8;\" x=\"26.925\" xlink:href=\"#mf7a4803215\" y=\"44.974219\"/>\r\n      </g>\r\n     </g>\r\n     <g id=\"text_9\">\r\n      <!-- 5 -->\r\n      <g transform=\"translate(13.5625 48.773437)scale(0.1 -0.1)\">\r\n       <use xlink:href=\"#DejaVuSans-53\"/>\r\n      </g>\r\n     </g>\r\n    </g>\r\n    <g id=\"ytick_3\">\r\n     <g id=\"line2d_10\">\r\n      <g>\r\n       <use style=\"stroke:#000000;stroke-width:0.8;\" x=\"26.925\" xlink:href=\"#mf7a4803215\" y=\"78.949219\"/>\r\n      </g>\r\n     </g>\r\n     <g id=\"text_10\">\r\n      <!-- 10 -->\r\n      <g transform=\"translate(7.2 82.748437)scale(0.1 -0.1)\">\r\n       <use xlink:href=\"#DejaVuSans-49\"/>\r\n       <use x=\"63.623047\" xlink:href=\"#DejaVuSans-48\"/>\r\n      </g>\r\n     </g>\r\n    </g>\r\n    <g id=\"ytick_4\">\r\n     <g id=\"line2d_11\">\r\n      <g>\r\n       <use style=\"stroke:#000000;stroke-width:0.8;\" x=\"26.925\" xlink:href=\"#mf7a4803215\" y=\"112.924219\"/>\r\n      </g>\r\n     </g>\r\n     <g id=\"text_11\">\r\n      <!-- 15 -->\r\n      <g transform=\"translate(7.2 116.723437)scale(0.1 -0.1)\">\r\n       <use xlink:href=\"#DejaVuSans-49\"/>\r\n       <use x=\"63.623047\" xlink:href=\"#DejaVuSans-53\"/>\r\n      </g>\r\n     </g>\r\n    </g>\r\n    <g id=\"ytick_5\">\r\n     <g id=\"line2d_12\">\r\n      <g>\r\n       <use style=\"stroke:#000000;stroke-width:0.8;\" x=\"26.925\" xlink:href=\"#mf7a4803215\" y=\"146.899219\"/>\r\n      </g>\r\n     </g>\r\n     <g id=\"text_12\">\r\n      <!-- 20 -->\r\n      <g transform=\"translate(7.2 150.698437)scale(0.1 -0.1)\">\r\n       <use xlink:href=\"#DejaVuSans-50\"/>\r\n       <use x=\"63.623047\" xlink:href=\"#DejaVuSans-48\"/>\r\n      </g>\r\n     </g>\r\n    </g>\r\n    <g id=\"ytick_6\">\r\n     <g id=\"line2d_13\">\r\n      <g>\r\n       <use style=\"stroke:#000000;stroke-width:0.8;\" x=\"26.925\" xlink:href=\"#mf7a4803215\" y=\"180.874219\"/>\r\n      </g>\r\n     </g>\r\n     <g id=\"text_13\">\r\n      <!-- 25 -->\r\n      <g transform=\"translate(7.2 184.673437)scale(0.1 -0.1)\">\r\n       <use xlink:href=\"#DejaVuSans-50\"/>\r\n       <use x=\"63.623047\" xlink:href=\"#DejaVuSans-53\"/>\r\n      </g>\r\n     </g>\r\n    </g>\r\n    <g id=\"ytick_7\">\r\n     <g id=\"line2d_14\">\r\n      <g>\r\n       <use style=\"stroke:#000000;stroke-width:0.8;\" x=\"26.925\" xlink:href=\"#mf7a4803215\" y=\"214.849219\"/>\r\n      </g>\r\n     </g>\r\n     <g id=\"text_14\">\r\n      <!-- 30 -->\r\n      <g transform=\"translate(7.2 218.648437)scale(0.1 -0.1)\">\r\n       <use xlink:href=\"#DejaVuSans-51\"/>\r\n       <use x=\"63.623047\" xlink:href=\"#DejaVuSans-48\"/>\r\n      </g>\r\n     </g>\r\n    </g>\r\n   </g>\r\n   <g id=\"patch_3\">\r\n    <path d=\"M 26.925 225.041719 \r\nL 26.925 7.601719 \r\n\" style=\"fill:none;stroke:#000000;stroke-linecap:square;stroke-linejoin:miter;stroke-width:0.8;\"/>\r\n   </g>\r\n   <g id=\"patch_4\">\r\n    <path d=\"M 244.365 225.041719 \r\nL 244.365 7.601719 \r\n\" style=\"fill:none;stroke:#000000;stroke-linecap:square;stroke-linejoin:miter;stroke-width:0.8;\"/>\r\n   </g>\r\n   <g id=\"patch_5\">\r\n    <path d=\"M 26.925 225.041719 \r\nL 244.365 225.041719 \r\n\" style=\"fill:none;stroke:#000000;stroke-linecap:square;stroke-linejoin:miter;stroke-width:0.8;\"/>\r\n   </g>\r\n   <g id=\"patch_6\">\r\n    <path d=\"M 26.925 7.601719 \r\nL 244.365 7.601719 \r\n\" style=\"fill:none;stroke:#000000;stroke-linecap:square;stroke-linejoin:miter;stroke-width:0.8;\"/>\r\n   </g>\r\n  </g>\r\n </g>\r\n <defs>\r\n  <clipPath id=\"pa8f8bbca05\">\r\n   <rect height=\"217.44\" width=\"217.44\" x=\"26.925\" y=\"7.601719\"/>\r\n  </clipPath>\r\n </defs>\r\n</svg>\r\n",
      "image/png": "[encoded data removed]"
     },
     "metadata": {
      "needs_background": "light"
     }
    }
   ],
   "source": [
    "plot.imshow(x_test[0])"
   ]
  },
  {
   "cell_type": "code",
   "execution_count": 10,
   "metadata": {},
   "outputs": [],
   "source": [
    "model = keras.Sequential()\n",
    "model.add(keras.layers.Conv2D(filters = 32, kernel_size = (3,3), activation = 'relu', input_shape = [32,32,3], padding='same'))\n",
    "\n",
    "model.add(keras.layers.Conv2D(filters = 32, kernel_size = (3,3), activation = 'relu', padding='same'))\n",
    "\n",
    "model.add(keras.layers.MaxPool2D(pool_size=(2,2), strides=2, padding='valid'))\n",
    "\n",
    "model.add(keras.layers.Dropout(0.5))\n",
    "\n",
    "model.add(keras.layers.Flatten())\n",
    "\n",
    "model.add(keras.layers.Dense(units = 256, activation = 'relu'))\n",
    "\n",
    "model.add(keras.layers.Dense(units=10, activation='softmax'))\n"
   ]
  },
  {
   "cell_type": "code",
   "execution_count": 11,
   "metadata": {},
   "outputs": [
    {
     "output_type": "stream",
     "name": "stdout",
     "text": [
      "Model: \"sequential\"\n_________________________________________________________________\nLayer (type)                 Output Shape              Param #   \n=================================================================\nconv2d (Conv2D)              (None, 32, 32, 32)        896       \n_________________________________________________________________\nconv2d_1 (Conv2D)            (None, 32, 32, 32)        9248      \n_________________________________________________________________\nmax_pooling2d (MaxPooling2D) (None, 16, 16, 32)        0         \n_________________________________________________________________\ndropout (Dropout)            (None, 16, 16, 32)        0         \n_________________________________________________________________\nflatten (Flatten)            (None, 8192)              0         \n_________________________________________________________________\ndense (Dense)                (None, 256)               2097408   \n_________________________________________________________________\ndense_1 (Dense)              (None, 10)                2570      \n=================================================================\nTotal params: 2,110,122\nTrainable params: 2,110,122\nNon-trainable params: 0\n_________________________________________________________________\n"
     ]
    }
   ],
   "source": [
    "model.summary()"
   ]
  },
  {
   "cell_type": "code",
   "execution_count": 12,
   "metadata": {},
   "outputs": [],
   "source": [
    "model.compile(loss = 'sparse_categorical_crossentropy', optimizer='adam', metrics = ['sparse_categorical_accuracy'])"
   ]
  },
  {
   "cell_type": "code",
   "execution_count": null,
   "metadata": {},
   "outputs": [],
   "source": [
    "model.fit(x_train,y_train,batch_size=1,epochs=10,verbose=1, validation_data=(x_test,y_test))"
   ]
  },
  {
   "cell_type": "code",
   "execution_count": null,
   "metadata": {},
   "outputs": [],
   "source": []
  }
 ]
}